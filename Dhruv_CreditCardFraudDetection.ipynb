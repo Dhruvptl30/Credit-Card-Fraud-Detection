{
  "nbformat": 4,
  "nbformat_minor": 0,
  "metadata": {
    "colab": {
      "provenance": [],
      "gpuType": "T4"
    },
    "kernelspec": {
      "name": "python3",
      "display_name": "Python 3"
    },
    "language_info": {
      "name": "python"
    },
    "accelerator": "GPU"
  },
  "cells": [
    {
      "cell_type": "code",
      "source": [],
      "metadata": {
        "id": "lg3ZbVTA_rJZ"
      },
      "execution_count": null,
      "outputs": []
    },
    {
      "cell_type": "code",
      "source": [
        "import pandas as pd\n",
        "import matplotlib.pyplot as plt\n",
        "import seaborn as sns\n",
        "import numpy as np\n",
        "\n",
        "from sklearn.metrics import classification_report, accuracy_score\n",
        "from sklearn.ensemble import IsolationForest\n",
        "from sklearn.neighbors import LocalOutlierFactor\n",
        "from sklearn.linear_model import LogisticRegression\n",
        "from sklearn.metrics import mean_squared_error\n",
        "from sklearn.model_selection import train_test_split"
      ],
      "metadata": {
        "id": "S0DtxtQV_FvC"
      },
      "execution_count": null,
      "outputs": []
    },
    {
      "cell_type": "code",
      "source": [
        "data = pd.read_csv('creditcard.csv')\n",
        "\n",
        "print(\"Shape of the Dataset: \", data.shape) # number of rows and columns in our dataset\n",
        "print(\"\\n\\n\", data.columns) # columns/features in our Dataset"
      ],
      "metadata": {
        "id": "N4sHooDoheSV"
      },
      "execution_count": null,
      "outputs": []
    },
    {
      "cell_type": "code",
      "source": [
        "data.head() # first five records"
      ],
      "metadata": {
        "id": "c6RETETkmi-w"
      },
      "execution_count": null,
      "outputs": []
    },
    {
      "cell_type": "code",
      "source": [
        "data.tail() # last five records"
      ],
      "metadata": {
        "id": "BLLI9kEjlXAI"
      },
      "execution_count": null,
      "outputs": []
    },
    {
      "cell_type": "code",
      "source": [
        "data = data.sample(frac = 0.4, random_state = 42) # using 40% of our dataset for next steps\n",
        "print(\"Shape of the Dataset: \", data.shape)"
      ],
      "metadata": {
        "id": "jPHX0tJnlknD"
      },
      "execution_count": null,
      "outputs": []
    },
    {
      "cell_type": "code",
      "source": [
        "# Determine number of fraud cases in Dataset\n",
        "\n",
        "Fraud = data[data['Class'] == 1]\n",
        "Valid = data[data['Class'] == 0]\n",
        "\n",
        "outlier_fraction = (len(Fraud)/float(len(Valid)))\n",
        "print(\"Outlier_fraction: {0} %\".format(outlier_fraction*100))\n",
        "\n",
        "print('Fraud Cases: {}'.format(len(data[data['Class'] == 1])))\n",
        "print('Valid Transactions: {}'.format(len(data[data['Class'] == 0])))"
      ],
      "metadata": {
        "id": "-vSTqRihmTu8"
      },
      "execution_count": null,
      "outputs": []
    },
    {
      "cell_type": "code",
      "source": [
        "print(\"Description of the Dataset: \", data.describe())"
      ],
      "metadata": {
        "id": "xtI5tcEdmXVi"
      },
      "execution_count": null,
      "outputs": []
    },
    {
      "cell_type": "code",
      "source": [
        "data.hist(figsize = (15, 15))\n",
        "plt.show()"
      ],
      "metadata": {
        "id": "Y7YVLGTzwV1B"
      },
      "execution_count": null,
      "outputs": []
    },
    {
      "cell_type": "code",
      "source": [
        "corrmat = data.corr()\n",
        "fig = plt.figure(figsize = (15, 15))"
      ],
      "metadata": {
        "id": "c5KvKqnG0IP2"
      },
      "execution_count": null,
      "outputs": []
    },
    {
      "cell_type": "code",
      "source": [
        "corrmat['Class']"
      ],
      "metadata": {
        "id": "F_HW_l_B0XcD"
      },
      "execution_count": null,
      "outputs": []
    },
    {
      "cell_type": "code",
      "source": [
        "cols = corrmat.keys()\n",
        "cols_to_keep = []\n",
        "\n",
        "for i in range(len(corrmat)):\n",
        "\n",
        "    if abs(corrmat['Class'][i]) > 0.01:\n",
        "\n",
        "        cols_to_keep.append(cols[i])\n",
        "\n",
        "print(cols_to_keep)"
      ],
      "metadata": {
        "id": "RsVZOANl0YDx"
      },
      "execution_count": null,
      "outputs": []
    },
    {
      "cell_type": "code",
      "source": [
        "features = cols_to_keep[:-1]"
      ],
      "metadata": {
        "id": "zKexgH0b0sWM"
      },
      "execution_count": null,
      "outputs": []
    },
    {
      "cell_type": "code",
      "source": [
        "feature = data[cols] # records of all transactions, excluding the target class\n",
        "target = data[\"Class\"] # records of the corresponding label for each record"
      ],
      "metadata": {
        "id": "XQHm4toB2_DC"
      },
      "execution_count": null,
      "outputs": []
    },
    {
      "cell_type": "code",
      "source": [
        "clf = IsolationForest(max_samples = len(features),\n",
        "                                        contamination = outlier_fraction)"
      ],
      "metadata": {
        "id": "3ts0tP2q5O2d"
      },
      "execution_count": null,
      "outputs": []
    },
    {
      "cell_type": "code",
      "source": [
        "n_outliers = len(Fraud)"
      ],
      "metadata": {
        "id": "VU3Qid-u4f9E"
      },
      "execution_count": null,
      "outputs": []
    },
    {
      "cell_type": "code",
      "source": [
        "clf.fit(feature)\n",
        "        # generate predictions\n",
        "scores_pred = clf.decision_function(feature)\n",
        "y_pred = clf.predict(feature)\n",
        "\n",
        "    # Reshape the prediction values to 0 for valid, 1 for fraud.\n",
        "\n",
        "y_pred[y_pred == 1] = 0\n",
        "y_pred[y_pred == -1] = 1\n",
        "\n",
        "n_errors = (y_pred != target).sum()\n"
      ],
      "metadata": {
        "id": "CJSbYPMZxrpm"
      },
      "execution_count": null,
      "outputs": []
    },
    {
      "cell_type": "code",
      "source": [
        "# clf = LocalOutlierFactor(\n",
        "#         n_neighbors = 20,\n",
        "#         contamination = outlier_fraction)\n",
        "\n",
        "# y_pred = clf.fit_predict(features)\n",
        "# scores_pred = clf.negative_outlier_factor_\n",
        "\n",
        "# y_pred[y_pred == 1] = 0\n",
        "# y_pred[y_pred == -1] = 1\n",
        "\n",
        "# n_errors = (y_pred != target).sum()"
      ],
      "metadata": {
        "id": "tyUVy_XY-0y-"
      },
      "execution_count": null,
      "outputs": []
    },
    {
      "cell_type": "code",
      "source": [
        "print('Number of Errors: ', n_errors)\n",
        "print('Accuracy: ', accuracy_score(target, y_pred)*100)\n",
        "print(classification_report(target, y_pred))"
      ],
      "metadata": {
        "id": "SQ7UFO0J23h3"
      },
      "execution_count": null,
      "outputs": []
    }
  ]
}